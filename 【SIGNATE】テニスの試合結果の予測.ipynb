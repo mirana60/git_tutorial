{
  "nbformat": 4,
  "nbformat_minor": 0,
  "metadata": {
    "colab": {
      "provenance": [],
      "authorship_tag": "ABX9TyMn8e5cS5b44jp06jnMf6UD",
      "include_colab_link": true
    },
    "kernelspec": {
      "name": "python3",
      "display_name": "Python 3"
    },
    "language_info": {
      "name": "python"
    }
  },
  "cells": [
    {
      "cell_type": "markdown",
      "metadata": {
        "id": "view-in-github",
        "colab_type": "text"
      },
      "source": [
        "<a href=\"https://colab.research.google.com/github/mirana60/git_tutorial/blob/master/%E3%80%90SIGNATE%E3%80%91%E3%83%86%E3%83%8B%E3%82%B9%E3%81%AE%E8%A9%A6%E5%90%88%E7%B5%90%E6%9E%9C%E3%81%AE%E4%BA%88%E6%B8%AC.ipynb\" target=\"_parent\"><img src=\"https://colab.research.google.com/assets/colab-badge.svg\" alt=\"Open In Colab\"/></a>"
      ]
    },
    {
      "cell_type": "code",
      "source": [
        "import numpy as np\n",
        "import pandas as pd\n",
        "from sklearn.model_selection import train_test_split\n",
        "from sklearn.ensemble import RandomForestClassifier  # 分類問題の場合\n",
        "from sklearn.metrics import accuracy_score\n",
        "from sklearn.preprocessing import LabelEncoder\n",
        "\n",
        "# データの読み込み\n",
        "train_data = pd.read_csv('train.tsv', sep='\\t')\n",
        "test_data = pd.read_csv('test.tsv', sep='\\t')\n",
        "\n",
        "# 目的変数と特徴量の分離\n",
        "target = train_data['Result']\n",
        "train_data = train_data.drop(['Result'], axis=1)\n",
        "\n",
        "# 不要なカラムの削除\n",
        "drop_columns = ['id', 'Tournament', 'Player1', 'Player2', 'Year', 'Round']\n",
        "train_data = train_data.drop(columns=drop_columns, errors='ignore')\n",
        "test_data = test_data.drop(columns=drop_columns, errors='ignore')\n",
        "\n",
        "# 性別のラベルエンコード\n",
        "if 'Sex' in train_data.columns:\n",
        "    le = LabelEncoder()\n",
        "    train_data['Sex'] = le.fit_transform(train_data['Sex'])\n",
        "\n",
        "if 'Sex' in test_data.columns:\n",
        "    le = LabelEncoder()\n",
        "    test_data['Sex'] = le.fit_transform(test_data['Sex'])\n",
        "\n",
        "# 欠損値の補完\n",
        "train_data = train_data.fillna(train_data.mean())\n",
        "test_data = test_data.fillna(test_data.mean())\n",
        "\n",
        "# 特徴量とターゲットを定義\n",
        "X_train = train_data\n",
        "y_train = target\n",
        "\n",
        "# データの分割（学習用と検証用）\n",
        "X_train_split, X_val, y_train_split, y_val = train_test_split(X_train, y_train, test_size=0.2, random_state=42)\n",
        "\n",
        "# モデルの構築と学習\n",
        "model = RandomForestClassifier(random_state=42)  # 分類問題なので\n",
        "model.fit(X_train_split, y_train_split)\n",
        "\n",
        "# 検証データでの予測\n",
        "val_predictions = model.predict(X_val)\n",
        "val_accuracy = accuracy_score(y_val, val_predictions)  # 分類問題なので精度を評価\n",
        "print(\"Validation Accuracy:\", val_accuracy)\n",
        "\n",
        "# テストデータでの予測\n",
        "test_predictions = model.predict(test_data)\n",
        "\n",
        "# 結果の保存（id列をtest_dataから取得）\n",
        "output =pd.DataFrame({'id': test_data.index, 'Result': test_predictions})\n",
        "output.to_csv('submission.csv', index=False,header=False)\n",
        "\n",
        "# sample_submit.csvを読み込む\n",
        "sample_submit = pd.read_csv('sample_submit.csv')\n",
        "\n",
        "# submission.csvを読み込む\n",
        "submission = pd.read_csv('submission.csv')\n",
        "\n",
        "submission.iloc[:, 0] = sample_submit.iloc[:, 0]\n",
        "\n",
        "submission.to_csv('submission.csv', index=False)\n"
      ],
      "metadata": {
        "colab": {
          "base_uri": "https://localhost:8080/"
        },
        "id": "FMY1ilL-LqHa",
        "outputId": "250f7256-6ad9-48d7-aa87-d309e7ffe640"
      },
      "execution_count": null,
      "outputs": [
        {
          "output_type": "stream",
          "name": "stdout",
          "text": [
            "Validation Accuracy: 1.0\n"
          ]
        }
      ]
    }
  ]
}