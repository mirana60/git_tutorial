{
  "nbformat": 4,
  "nbformat_minor": 0,
  "metadata": {
    "colab": {
      "provenance": [],
      "authorship_tag": "ABX9TyO6Dv8SrkDdESzXp8gZ9U23",
      "include_colab_link": true
    },
    "kernelspec": {
      "name": "python3",
      "display_name": "Python 3"
    },
    "language_info": {
      "name": "python"
    }
  },
  "cells": [
    {
      "cell_type": "markdown",
      "metadata": {
        "id": "view-in-github",
        "colab_type": "text"
      },
      "source": [
        "<a href=\"https://colab.research.google.com/github/mirana60/git_tutorial/blob/master/%E3%80%90SIGNATE%E3%80%91%E3%82%BF%E3%82%A4%E3%82%BF%E3%83%8B%E3%83%83%E3%82%AF%E3%81%AE%E7%94%9F%E5%AD%98%E4%BA%88%E6%B8%AC.ipynb\" target=\"_parent\"><img src=\"https://colab.research.google.com/assets/colab-badge.svg\" alt=\"Open In Colab\"/></a>"
      ]
    },
    {
      "cell_type": "code",
      "execution_count": 11,
      "metadata": {
        "colab": {
          "base_uri": "https://localhost:8080/",
          "height": 581
        },
        "id": "BtrdyNo_V_xQ",
        "outputId": "53237908-9d93-435d-ff75-bb458f212627"
      },
      "outputs": [
        {
          "output_type": "stream",
          "name": "stdout",
          "text": [
            "Validation Accuracy: 0.8651685393258427\n"
          ]
        },
        {
          "output_type": "display_data",
          "data": {
            "text/plain": [
              "<Figure size 600x600 with 2 Axes>"
            ],
            "image/png": "[encoded data removed]"
          },
          "metadata": {}
        }
      ],
      "source": [
        "import numpy as np\n",
        "import pandas as pd\n",
        "from sklearn.model_selection import train_test_split\n",
        "from sklearn.ensemble import RandomForestClassifier  # 分類問題の場合\n",
        "from sklearn.metrics import accuracy_score\n",
        "from sklearn.preprocessing import LabelEncoder\n",
        "import matplotlib.pyplot as plt\n",
        "\n",
        "# データの読み込み\n",
        "train_data = pd.read_csv('train.tsv', sep='\\t')\n",
        "test_data = pd.read_csv('test.tsv', sep='\\t')\n",
        "\n",
        "# 目的変数と特徴量の分離\n",
        "target = train_data['survived']\n",
        "train_data = train_data.drop(['survived'], axis=1)\n",
        "\n",
        "# 不要なカラムの削除\n",
        "drop_columns = ['id', 'fare', 'embarked']\n",
        "train_data = train_data.drop(columns=drop_columns, errors='ignore')\n",
        "test_data = test_data.drop(columns=drop_columns, errors='ignore')\n",
        "\n",
        "# 性別のラベルエンコード\n",
        "if 'sex' in train_data.columns:\n",
        "    le = LabelEncoder()\n",
        "    train_data['sex'] = le.fit_transform(train_data['sex'])\n",
        "\n",
        "if 'sex' in test_data.columns:\n",
        "    le = LabelEncoder()\n",
        "    test_data['sex'] = le.fit_transform(test_data['sex'])\n",
        "\n",
        "# 欠損値の補完\n",
        "# 数値データの欠損値は平均値で補完\n",
        "train_data = train_data.fillna(train_data.select_dtypes(include=['number']).mean())\n",
        "test_data = test_data.fillna(test_data.select_dtypes(include=['number']).mean())\n",
        "\n",
        "# カテゴリカルデータの欠損値は最頻値で補完\n",
        "train_data = train_data.apply(lambda x: x.fillna(x.mode()[0]) if x.dtype == 'object' else x)\n",
        "test_data = test_data.apply(lambda x: x.fillna(x.mode()[0]) if x.dtype == 'object' else x)\n",
        "\n",
        "# 特徴量とターゲットを定義\n",
        "X_train = train_data\n",
        "y_train = target\n",
        "\n",
        "# データの分割（学習用と検証用）\n",
        "X_train_split, X_val, y_train_split, y_val = train_test_split(X_train, y_train, test_size=0.2, random_state=42)\n",
        "\n",
        "# モデルのインスタンス化\n",
        "model = RandomForestClassifier(random_state=42)\n",
        "\n",
        "# モデルの学習\n",
        "model.fit(X_train_split, y_train_split)\n",
        "\n",
        "# 検証データでの予測\n",
        "val_predictions = model.predict(X_val)\n",
        "val_accuracy = accuracy_score(y_val, val_predictions)  # 分類問題なので精度を評価\n",
        "print(\"Validation Accuracy:\", val_accuracy)\n",
        "\n",
        "# テストデータでの予測\n",
        "test_predictions = model.predict(test_data)\n",
        "\n",
        "# 結果の保存（id列をtest_dataから取得）\n",
        "output = pd.DataFrame({'id': test_data.index, 'Result': test_predictions})\n",
        "output.to_csv('submission.tsv', sep='\\t', index=False, header=False)\n",
        "\n",
        "\n",
        "# submission.tsv と sample_submit.tsv を読み込む\n",
        "submission = pd.read_csv('submission.tsv', sep='\\t')\n",
        "sample_submit = pd.read_csv('sample_submit.tsv', sep='\\t')\n",
        "\n",
        "# sample_submit の1列目のデータを submission の1列目に上書き\n",
        "submission.iloc[:, 0] = sample_submit.iloc[:, 0]\n",
        "\n",
        "# 上書きした結果を新しいファイルに保存\n",
        "submission.to_csv('submission_updated.tsv', sep='\\t', index=False)\n",
        "\n",
        "from sklearn.metrics import confusion_matrix\n",
        "import seaborn as sns\n",
        "\n",
        "# 混同行列の作成\n",
        "conf_matrix = confusion_matrix(y_val, val_predictions)\n",
        "\n",
        "# 混同行列のヒートマップをプロット\n",
        "plt.figure(figsize=(6, 6))\n",
        "sns.heatmap(conf_matrix, annot=True, fmt='d', cmap='Blues', xticklabels=[0, 1], yticklabels=[0, 1])\n",
        "plt.xlabel('Predicted')\n",
        "plt.ylabel('True')\n",
        "plt.title('Confusion Matrix')\n",
        "plt.show()\n",
        "\n",
        "\n"
      ]
    },
    {
      "cell_type": "code",
      "source": [],
      "metadata": {
        "id": "rWuOkIyMa-Wd"
      },
      "execution_count": null,
      "outputs": []
    }
  ]
}